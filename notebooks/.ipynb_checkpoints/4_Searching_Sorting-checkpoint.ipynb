{
 "cells": [
  {
   "cell_type": "markdown",
   "id": "e3b9120e-6993-4a63-9d02-8e484f36d46b",
   "metadata": {},
   "source": [
    "## 1. Searching"
   ]
  },
  {
   "cell_type": "markdown",
   "id": "fbc20b33-33cb-47da-a391-4a5494fbf23b",
   "metadata": {},
   "source": [
    "### 1.1 Binary Search: $O(\\log n)$"
   ]
  },
  {
   "cell_type": "code",
   "execution_count": 1,
   "id": "f01a72b5-fa18-497c-a111-f39df33873b1",
   "metadata": {},
   "outputs": [],
   "source": [
    "def binarySearch(theValues, target):\n",
    "\n",
    "    low = 0\n",
    "    high = len(theValues) - 1\n",
    "\n",
    "    while low <= high:\n",
    "        mid = (low+high) // 2 # floor division\n",
    "\n",
    "        if theValues[mid] == target:\n",
    "            return True\n",
    "\n",
    "        elif theValues[mid] > target:\n",
    "            high = mid - 1\n",
    "\n",
    "        else:\n",
    "            low =mid + 1\n",
    "\n",
    "    return False\n"
   ]
  },
  {
   "cell_type": "markdown",
   "id": "9e25b78f-08a2-46b2-bc19-bf6d1548a886",
   "metadata": {},
   "source": [
    "## 2. Sorting"
   ]
  },
  {
   "cell_type": "markdown",
   "id": "8d3e4b49-cc59-481b-8751-611f3b500def",
   "metadata": {},
   "source": [
    "### 2.1 Bubble Sort: $O(n^2)$"
   ]
  },
  {
   "cell_type": "code",
   "execution_count": 4,
   "id": "43f56ede-fafd-4763-b9ed-52e1efe08f52",
   "metadata": {},
   "outputs": [
    {
     "data": {
      "text/plain": [
       "[17, 20, 26, 31, 44, 54, 55, 77, 93]"
      ]
     },
     "execution_count": 4,
     "metadata": {},
     "output_type": "execute_result"
    }
   ],
   "source": [
    "def bubbleSort(theSeq):\n",
    "    n = len(theSeq)\n",
    "\n",
    "    for i in range(n-1):\n",
    "        for j in range(n-i-1):\n",
    "            if theSeq[j] > theSeq[j+1]:\n",
    "                temp = theSeq[j]\n",
    "                theSeq[j] = theSeq[j+1]\n",
    "                theSeq[j+1] = temp\n",
    "\n",
    "alist = [54,26,93,17,77,31,44,55,20]\n",
    "bubbleSort(alist)\n",
    "alist"
   ]
  },
  {
   "cell_type": "code",
   "execution_count": null,
   "id": "5866cf07-36a8-4d54-8209-48120fd5cd61",
   "metadata": {},
   "outputs": [],
   "source": []
  }
 ],
 "metadata": {
  "kernelspec": {
   "display_name": "Python 3 (ipykernel)",
   "language": "python",
   "name": "python3"
  },
  "language_info": {
   "codemirror_mode": {
    "name": "ipython",
    "version": 3
   },
   "file_extension": ".py",
   "mimetype": "text/x-python",
   "name": "python",
   "nbconvert_exporter": "python",
   "pygments_lexer": "ipython3",
   "version": "3.12.4"
  }
 },
 "nbformat": 4,
 "nbformat_minor": 5
}
