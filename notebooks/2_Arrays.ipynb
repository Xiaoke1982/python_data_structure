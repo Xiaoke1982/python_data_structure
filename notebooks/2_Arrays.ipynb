{
 "cells": [
  {
   "cell_type": "markdown",
   "id": "acd9a687-a8fd-4629-a333-8d475949715d",
   "metadata": {},
   "source": [
    "## 1. The Array Structure"
   ]
  },
  {
   "cell_type": "markdown",
   "id": "2db698fa-e486-495d-a209-b5a6adb4257d",
   "metadata": {},
   "source": [
    "There are **two** major differences between the **array** and the **Python's list**. \n",
    "\n",
    "1. An array has a limited number of operations, which commonly include those for **array creation, reading a value from a specific element, and writing a value to a specific element.** The list, on the other hand, provides a large number of operations for working with the contents of the list.\n",
    "\n",
    "2. The list can grow and shrink during execution as elements are added or removed, while **the size of an array cannot be changed after it has been created.**"
   ]
  },
  {
   "cell_type": "code",
   "execution_count": null,
   "id": "dc34d91d-e125-4453-98a5-4161d49dfb44",
   "metadata": {},
   "outputs": [],
   "source": []
  }
 ],
 "metadata": {
  "kernelspec": {
   "display_name": "Python 3 (ipykernel)",
   "language": "python",
   "name": "python3"
  },
  "language_info": {
   "codemirror_mode": {
    "name": "ipython",
    "version": 3
   },
   "file_extension": ".py",
   "mimetype": "text/x-python",
   "name": "python",
   "nbconvert_exporter": "python",
   "pygments_lexer": "ipython3",
   "version": "3.12.4"
  }
 },
 "nbformat": 4,
 "nbformat_minor": 5
}
