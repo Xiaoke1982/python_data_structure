{
 "cells": [
  {
   "cell_type": "markdown",
   "id": "8a26918f-2bb0-47c7-9d79-0370595d4b5b",
   "metadata": {},
   "source": [
    "## 1. Introduction"
   ]
  },
  {
   "cell_type": "code",
   "execution_count": 1,
   "id": "433b260d-e800-47a5-8ae7-9b7b2534a287",
   "metadata": {},
   "outputs": [],
   "source": [
    "class ListNode:\n",
    "\n",
    "    def __init__(self, data):\n",
    "        \n",
    "        self.data = data\n",
    "        self.next = None"
   ]
  },
  {
   "cell_type": "code",
   "execution_count": null,
   "id": "bf17f212-777c-412e-837b-bf5d2060a0bb",
   "metadata": {},
   "outputs": [],
   "source": []
  }
 ],
 "metadata": {
  "kernelspec": {
   "display_name": "Python 3 (ipykernel)",
   "language": "python",
   "name": "python3"
  },
  "language_info": {
   "codemirror_mode": {
    "name": "ipython",
    "version": 3
   },
   "file_extension": ".py",
   "mimetype": "text/x-python",
   "name": "python",
   "nbconvert_exporter": "python",
   "pygments_lexer": "ipython3",
   "version": "3.12.4"
  }
 },
 "nbformat": 4,
 "nbformat_minor": 5
}
